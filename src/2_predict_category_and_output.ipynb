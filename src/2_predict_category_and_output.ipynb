{
 "cells": [
  {
   "cell_type": "code",
   "execution_count": null,
   "id": "dd64ba45",
   "metadata": {},
   "outputs": [],
   "source": [
    "import torch\n",
    "import numpy as np\n",
    "from torch_geometric.data import Data"
   ]
  },
  {
   "cell_type": "code",
   "execution_count": null,
   "id": "94dba019",
   "metadata": {},
   "outputs": [],
   "source": [
    "import shutil\n",
    "import os\n",
    "\n",
    "rootdir = '..'\n",
    "mesh_file_dir = rootdir + \"/mesh_file\"\n",
    "text_file_dir = rootdir + \"/text\"\n",
    "\n",
    "if os.path.exists(text_file_dir):\n",
    "    pass\n",
    "    #shutil.rmtree(text_file_dir)\n",
    "else:\n",
    "    os.mkdir(text_file_dir)"
   ]
  },
  {
   "cell_type": "code",
   "execution_count": null,
   "id": "058e7a16",
   "metadata": {
    "scrolled": false
   },
   "outputs": [],
   "source": [
    "from torch.nn import Linear\n",
    "import torch.nn.functional as F\n",
    "from torch_geometric.nn import GCNConv\n",
    "from torch_geometric.nn import global_mean_pool,global_max_pool\n",
    "\n",
    "\n",
    "class GCN(torch.nn.Module):\n",
    "    def __init__(self, hidden_channels):\n",
    "        super(GCN, self).__init__()\n",
    "        torch.manual_seed(12345)\n",
    "        self.conv1 = GCNConv(12, hidden_channels)  \n",
    "        self.conv2 = GCNConv(128, 256)\n",
    "        self.conv3 = GCNConv(256, 256)\n",
    "        self.conv4 = GCNConv(256, 256)\n",
    "        self.linear4 = Linear(128,256)\n",
    "        self.linear2 = Linear(256,128)\n",
    "        self.linear3 = Linear(128,128)\n",
    "        self.lin = Linear(128, 11)\n",
    "        \n",
    "    def forward(self, x, edge_index, batch):\n",
    "        # 1. Obtain node embeddings\n",
    "        x = self.conv1(x, edge_index)\n",
    "        x = x.relu()\n",
    "        x = self.conv2(x, edge_index)\n",
    "        x = x.relu()\n",
    "        x = self.conv3(x, edge_index)\n",
    "        x = x.relu()\n",
    "        x = self.conv4(x, edge_index)\n",
    "        \n",
    "        # 2. Readout layer\n",
    "        x = global_max_pool(x, batch)  # [batch_size, hidden_channels]\n",
    "        # 3. Apply a final classifier\n",
    "        x = F.dropout(x, p=0.5, training=self.training)\n",
    "        x = self.linear2(x)\n",
    "        x = x.relu()\n",
    "        x = self.linear3(x)\n",
    "        x = x.relu()\n",
    "        x = self.lin(x)\n",
    "        return x\n",
    "\n",
    "model = GCN(hidden_channels=128)\n",
    "print(model)\n",
    "\n",
    "#\n",
    "#\n",
    "model.load_state_dict(torch.load(\"../model_parameter/800graphclassify_11cats_noRotation_based_on_polycube_hybrid_v3_wd401_09_epoch50.ckpt\"))\n",
    "model.eval()"
   ]
  },
  {
   "cell_type": "code",
   "execution_count": null,
   "id": "af989886",
   "metadata": {
    "scrolled": true
   },
   "outputs": [],
   "source": [
    "\"\"\"\n",
    "\n",
    "\"\"\"\n",
    "feature = np.loadtxt(text_file_dir + '/testfeature.txt')\n",
    "edge = np.loadtxt(text_file_dir + '/testedge.txt')\n",
    "\n",
    "\n",
    "feature = torch.from_numpy(feature).to(torch.float32)\n",
    "edge = torch.from_numpy(edge).to(torch.int64).transpose(0,1)\n",
    "\n",
    "data1 = Data(x = feature,edge_index = edge)"
   ]
  },
  {
   "cell_type": "code",
   "execution_count": null,
   "id": "f96abc16",
   "metadata": {},
   "outputs": [],
   "source": [
    "\"\"\"\n",
    "\n",
    "\"\"\"\n",
    "\n",
    "import torch\n",
    "from torch_geometric.data import InMemoryDataset\n",
    "from torch_geometric.data import Data\n",
    "\n",
    "\n",
    "test_name = \"test_data.pt\"\n",
    "\n",
    "\n",
    "class MyDataset(InMemoryDataset):\n",
    "    def __init__(self, root, transform=None, pre_transform=None):\n",
    "        super(MyDataset, self).__init__(root, transform, pre_transform)\n",
    "        self.data, self.slices = torch.load(self.processed_paths[0])\n",
    "    @property\n",
    "    def raw_file_names(self):\n",
    "        return []\n",
    "\n",
    "    @property\n",
    "    def processed_file_names(self):\n",
    "        return [test_name]   \n",
    "\n",
    "    def download(self):\n",
    "        pass \n",
    "\n",
    "    def process(self):\n",
    "        data_list = []\n",
    "\n",
    "        data = data1\n",
    "        data_list.append(data)\n",
    "        data, slices = self.collate(data_list)\n",
    "        torch.save((data, slices), self.processed_paths[0])\n",
    "\n",
    "        \n",
    "import os\n",
    "\n",
    "if os.path.exists('../data/processed/' + test_name):\n",
    "    os.remove('../data/processed/' + test_name)\n",
    "dataset = MyDataset(root = '../data/')"
   ]
  },
  {
   "cell_type": "code",
   "execution_count": null,
   "id": "ffdc1870",
   "metadata": {
    "scrolled": true
   },
   "outputs": [],
   "source": [
    "\"\"\"\n",
    "\n",
    "\"\"\"\n",
    "\n",
    "bat = torch.from_numpy(np.zeros(len(feature))).to(torch.int64)\n",
    "model.eval()\n",
    "res = model(dataset[0].x,dataset[0].edge_index,torch.from_numpy(np.zeros(dataset[0].x.shape[0])).to(torch.int64))\n",
    "res = res[:,[2,8,10,6,7,4,0,3,1,5,9]]\n",
    "res = res.argmax(dim = 1)\n",
    "res = int(res)\n",
    "print(res)\n",
    "np.savetxt(\"../classification_result.txt\",np.array([res]),\"%d\")"
   ]
  },
  {
   "cell_type": "code",
   "execution_count": null,
   "id": "44ed7af3",
   "metadata": {
    "scrolled": true
   },
   "outputs": [],
   "source": [
    "\"\"\"\n",
    "\n",
    "\"\"\"\n",
    "import math\n",
    "np.set_printoptions(suppress=True)\n",
    "\n",
    "u = model(dataset[0].x,dataset[0].edge_index,torch.from_numpy(np.zeros(dataset[0].x.shape[0])).to(torch.int64))\n",
    "\n",
    "t = np.array(u.detach().numpy())\n",
    "\n",
    "def softmax(t):\n",
    "    exp_t = math.e ** t\n",
    "    probability = exp_t / np.sum(exp_t) * 100\n",
    "    return probability\n",
    "def softmax2(t):\n",
    "    exp_t = math.e ** t\n",
    "    probability = exp_t / np.sum(exp_t)\n",
    "    return probability\n",
    "\n",
    "def softmax3(t):\n",
    "    exp_t = math.e ** (t - np.max(t))\n",
    "    probability = exp_t / np.sum(exp_t) * 100\n",
    "    return probability\n",
    "probability = np.around(softmax3(t),9)\n",
    "probability = probability[:,[2,8,10,6,7,4,0,3,1,5,9]]\n",
    "print(probability)"
   ]
  },
  {
   "cell_type": "code",
   "execution_count": null,
   "id": "ea636202",
   "metadata": {},
   "outputs": [],
   "source": []
  },
  {
   "cell_type": "code",
   "execution_count": null,
   "id": "dde6dc64",
   "metadata": {},
   "outputs": [],
   "source": []
  }
 ],
 "metadata": {
  "kernelspec": {
   "display_name": "Python 3 (ipykernel)",
   "language": "python",
   "name": "python3"
  },
  "language_info": {
   "codemirror_mode": {
    "name": "ipython",
    "version": 3
   },
   "file_extension": ".py",
   "mimetype": "text/x-python",
   "name": "python",
   "nbconvert_exporter": "python",
   "pygments_lexer": "ipython3",
   "version": "3.9.12"
  }
 },
 "nbformat": 4,
 "nbformat_minor": 5
}
