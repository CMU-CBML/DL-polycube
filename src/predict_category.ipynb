{
 "cells": [
  {
   "cell_type": "code",
   "execution_count": null,
   "id": "59ecc562",
   "metadata": {},
   "outputs": [],
   "source": [
    "\"\"\"\n",
    "\n",
    "\"\"\""
   ]
  },
  {
   "cell_type": "code",
   "execution_count": 1,
   "id": "dd64ba45",
   "metadata": {},
   "outputs": [],
   "source": [
    "import torch\n",
    "import numpy as np\n",
    "from torch_geometric.data import Data"
   ]
  },
  {
   "cell_type": "code",
   "execution_count": 2,
   "id": "058e7a16",
   "metadata": {},
   "outputs": [
    {
     "name": "stdout",
     "output_type": "stream",
     "text": [
      "GCN(\n",
      "  (conv1): GCNConv(12, 128)\n",
      "  (conv2): GCNConv(128, 256)\n",
      "  (conv3): GCNConv(256, 256)\n",
      "  (conv4): GCNConv(256, 256)\n",
      "  (linear4): Linear(in_features=128, out_features=256, bias=True)\n",
      "  (linear2): Linear(in_features=256, out_features=128, bias=True)\n",
      "  (linear3): Linear(in_features=128, out_features=128, bias=True)\n",
      "  (lin): Linear(in_features=128, out_features=11, bias=True)\n",
      ")\n"
     ]
    },
    {
     "data": {
      "text/plain": [
       "GCN(\n",
       "  (conv1): GCNConv(12, 128)\n",
       "  (conv2): GCNConv(128, 256)\n",
       "  (conv3): GCNConv(256, 256)\n",
       "  (conv4): GCNConv(256, 256)\n",
       "  (linear4): Linear(in_features=128, out_features=256, bias=True)\n",
       "  (linear2): Linear(in_features=256, out_features=128, bias=True)\n",
       "  (linear3): Linear(in_features=128, out_features=128, bias=True)\n",
       "  (lin): Linear(in_features=128, out_features=11, bias=True)\n",
       ")"
      ]
     },
     "execution_count": 2,
     "metadata": {},
     "output_type": "execute_result"
    }
   ],
   "source": [
    "from torch.nn import Linear\n",
    "import torch.nn.functional as F\n",
    "from torch_geometric.nn import GCNConv\n",
    "from torch_geometric.nn import global_mean_pool,global_max_pool\n",
    "\n",
    "\n",
    "class GCN(torch.nn.Module):\n",
    "    def __init__(self, hidden_channels):\n",
    "        super(GCN, self).__init__()\n",
    "        torch.manual_seed(12345)\n",
    "        self.conv1 = GCNConv(12, hidden_channels)  \n",
    "        self.conv2 = GCNConv(128, 256)\n",
    "        self.conv3 = GCNConv(256, 256)\n",
    "        self.conv4 = GCNConv(256, 256)\n",
    "        self.linear4 = Linear(128,256)   #\n",
    "        self.linear2 = Linear(256,128)\n",
    "        self.linear3 = Linear(128,128)\n",
    "        self.lin = Linear(128, 11)\n",
    "\n",
    "        \n",
    "    def forward(self, x, edge_index, batch):\n",
    "\n",
    "        x = self.conv1(x, edge_index)\n",
    "        x = x.relu()\n",
    "        x = self.conv2(x, edge_index)\n",
    "        x = x.relu()\n",
    "        x = self.conv3(x, edge_index)\n",
    "        x = x.relu()\n",
    "        x = self.conv4(x, edge_index)\n",
    "        \n",
    "\n",
    "        x = global_max_pool(x, batch)  # [batch_size, hidden_channels]\n",
    "        x = F.dropout(x, p=0.5, training=self.training)\n",
    "        x = self.linear2(x)\n",
    "        x = x.relu()\n",
    "        x = self.linear3(x)\n",
    "        x = x.relu()\n",
    "        x = self.lin(x)\n",
    "        return x\n",
    "\n",
    "model = GCN(hidden_channels=128)\n",
    "print(model)\n",
    "\n",
    "#\n",
    "#\n",
    "model.load_state_dict(torch.load(\"../model_parameter/800graphclassify_11cats_noRotation_based_on_polycube_hybrid_v3_wd401_09_epoch50.ckpt\"))\n",
    "model.eval()"
   ]
  },
  {
   "cell_type": "code",
   "execution_count": 3,
   "id": "44ed7af3",
   "metadata": {},
   "outputs": [],
   "source": [
    "import math\n",
    "np.set_printoptions(suppress=True)\n",
    "\n",
    "def softmax3(t):\n",
    "    exp_t = math.e ** (t - np.max(t))\n",
    "    probability = exp_t / np.sum(exp_t) * 100\n",
    "    return probability"
   ]
  },
  {
   "cell_type": "code",
   "execution_count": 9,
   "id": "15d83a01",
   "metadata": {},
   "outputs": [],
   "source": [
    "test_list = [\n",
    "    \"test_cube.pt\",\n",
    "    \"test_ring.pt\",\n",
    "    \"test_rod_v2.pt\",\n",
    "    \"test_mount1.pt\",\n",
    "    \"test_mount2.pt\",\n",
    "    \"test_part.pt\",\n",
    "    \"test_bust.pt\",\n",
    "    \"test_duck_v2.pt\",\n",
    "    \"test_cow.pt\",\n",
    "    \"test_fandisk.pt\",\n",
    "    \"test_rockerarm.pt\",\n",
    "]\n"
   ]
  },
  {
   "cell_type": "code",
   "execution_count": 5,
   "id": "eef52b9f",
   "metadata": {},
   "outputs": [],
   "source": [
    "import torch\n",
    "from torch_geometric.data import InMemoryDataset\n",
    "from torch_geometric.data import Data\n",
    "\n",
    "res = []\n",
    "for i in range(len(test_list)):\n",
    "    class MyDataset(InMemoryDataset):\n",
    "        def __init__(self, root, transform=None, pre_transform=None):\n",
    "            super(MyDataset, self).__init__(root, transform, pre_transform)\n",
    "            self.data, self.slices = torch.load(self.processed_paths[0])\n",
    "\n",
    "\n",
    "        @property\n",
    "        def raw_file_names(self):\n",
    "            return []\n",
    "\n",
    "        @property\n",
    "        def processed_file_names(self):\n",
    "            return [test_list[i]]   \n",
    "\n",
    "        def download(self):\n",
    "            pass \n",
    "\n",
    "        def process(self):\n",
    "            data_list = []\n",
    "            data = data1\n",
    "            data_list.append(data)\n",
    "            data, slices = self.collate(data_list)\n",
    "            torch.save((data, slices), self.processed_paths[0])\n",
    "\n",
    "    dataset = MyDataset(root = '../data/')\n",
    "    \n",
    "    u = model(dataset[0].x,dataset[0].edge_index,torch.from_numpy(np.zeros(dataset[0].x.shape[0])).to(torch.int64))\n",
    "    np.set_printoptions(suppress=True)\n",
    "    t = np.array(u.detach().numpy())\n",
    "    probability = np.around(softmax3(t),4)\n",
    "    res.append(probability)"
   ]
  },
  {
   "cell_type": "code",
   "execution_count": 6,
   "id": "92809ae6",
   "metadata": {
    "scrolled": true
   },
   "outputs": [
    {
     "name": "stdout",
     "output_type": "stream",
     "text": [
      "[[100.       0.       0.       0.       0.       0.       0.       0.\n",
      "    0.       0.       0.    ]\n",
      " [  0.      99.9164   0.0003   0.       0.082    0.       0.       0.0002\n",
      "    0.       0.       0.001 ]\n",
      " [  0.       0.     100.       0.       0.       0.       0.       0.\n",
      "    0.       0.       0.    ]\n",
      " [  0.       0.0001   0.0122  95.9164   0.0002   0.       0.       0.\n",
      "    0.1381   0.0002   3.9328]\n",
      " [  0.       0.123    0.0401   0.      99.8241   0.0043   0.       0.0013\n",
      "    0.       0.0002   0.007 ]\n",
      " [  0.7903   0.       1.611    0.       0.0574  91.7904   2.9892   2.5635\n",
      "    0.1943   0.0035   0.0004]\n",
      " [  0.1419   0.       0.0001   0.       0.       5.259   89.5945   0.\n",
      "    5.0044   0.0002   0.    ]\n",
      " [  0.0022   0.      14.9105   0.       0.       1.9312   0.007   83.1486\n",
      "    0.0005   0.       0.    ]\n",
      " [  0.       0.       0.0019   0.       0.       0.0001   0.       0.\n",
      "   99.9981   0.       0.    ]\n",
      " [  0.0015   0.       0.0017   0.       0.0065   0.0398   0.       0.\n",
      "    0.0363  99.6958   0.2184]\n",
      " [  0.       0.001    0.0517   0.0121   0.7074   0.0166   0.       0.0002\n",
      "    0.029    0.0029  99.179 ]]\n",
      "[ 0  1  2  3  4  5  6  7  8  9 10]\n"
     ]
    }
   ],
   "source": [
    "res = np.array(res)\n",
    "res = res.reshape(11,11)\n",
    "res = res[:,[2,8,10,6,7,4,0,3,1,5,9]]\n",
    "print(res)\n",
    "print(np.argmax(res,axis = 1))"
   ]
  },
  {
   "cell_type": "code",
   "execution_count": 8,
   "id": "e66dac9b",
   "metadata": {},
   "outputs": [],
   "source": [
    "import pandas as pd\n",
    "pd.DataFrame(res).to_csv(\"../probability_distribution.csv\")"
   ]
  }
 ],
 "metadata": {
  "kernelspec": {
   "display_name": "Python 3 (ipykernel)",
   "language": "python",
   "name": "python3"
  },
  "language_info": {
   "codemirror_mode": {
    "name": "ipython",
    "version": 3
   },
   "file_extension": ".py",
   "mimetype": "text/x-python",
   "name": "python",
   "nbconvert_exporter": "python",
   "pygments_lexer": "ipython3",
   "version": "3.9.12"
  }
 },
 "nbformat": 4,
 "nbformat_minor": 5
}
